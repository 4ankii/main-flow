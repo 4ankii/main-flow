{
 "cells": [
  {
   "cell_type": "code",
   "execution_count": 7,
   "metadata": {},
   "outputs": [
    {
     "name": "stdout",
     "output_type": "stream",
     "text": [
      "12\n"
     ]
    }
   ],
   "source": [
    "'''1. The sum of Two Numbers\n",
    "Objective: Write a program to calculate the sum of two numbers.\n",
    "Input: Two integers.\n",
    "Output: Single integer, their sum.\n",
    "Hint: Use the simple addition (+) operator.'''\n",
    "def sum_two_numbers(a, b):\n",
    "    return a + b\n",
    "print(sum_two_numbers(5, 7))\n"
   ]
  },
  {
   "cell_type": "code",
   "execution_count": 8,
   "metadata": {},
   "outputs": [
    {
     "name": "stdout",
     "output_type": "stream",
     "text": [
      "Even\n",
      "Odd\n"
     ]
    }
   ],
   "source": [
    "'''2. Odd or Even\n",
    "Objective: Determine whether a number is odd or even.\n",
    "Input: A single integer.\n",
    "Output: \"Odd\" or \"Even\".\n",
    "Hint: Check the remainder when divided by 2 (number % 2 == 0 for even).'''\n",
    "def odd_or_even(number):\n",
    "    return \"Even\" if number % 2 == 0 else \"Odd\"\n",
    "\n",
    "\n",
    "print(odd_or_even(4))  # Output: Even\n",
    "print(odd_or_even(7))  # Output: Odd\n"
   ]
  },
  {
   "cell_type": "code",
   "execution_count": 9,
   "metadata": {},
   "outputs": [
    {
     "name": "stdout",
     "output_type": "stream",
     "text": [
      "120\n"
     ]
    }
   ],
   "source": [
    "''''3. Factorial Calculation\n",
    "Objective: Compute the factorial of a given number nnn (i.e., n!=n×(n−1)×⋯×1n! = n\n",
    "\\times (n-1) \\times \\dots \\times 1n!=n×(n−1)×⋯×1).\n",
    "Input: A single integer nnn.\n",
    "Output: Integer value of n!n!n!.\n",
    "Hint: Use a loop or math.factorial library.\n",
    "'''\n",
    "\n",
    "def factorial(n):\n",
    "    result = 1\n",
    "    for i in range(2, n + 1):\n",
    "        result *= i\n",
    "    return result\n",
    "\n",
    "print(factorial(5))"
   ]
  },
  {
   "cell_type": "code",
   "execution_count": 10,
   "metadata": {},
   "outputs": [
    {
     "name": "stdout",
     "output_type": "stream",
     "text": [
      "[0, 1, 1, 2, 3, 5, 8]\n"
     ]
    }
   ],
   "source": [
    "'''4. Fibonacci Sequence\n",
    "Objective: Generate the first nnn numbers in the Fibonacci sequence (e.g., 0, 1, 1, 2, 3,\n",
    "'''\n",
    "\n",
    "def fibonacci_sequence(n):\n",
    "    sequence = []\n",
    "    a, b = 0, 1\n",
    "    for _ in range(n):\n",
    "        sequence.append(a)\n",
    "        a, b = b, a + b\n",
    "    return sequence\n",
    "\n",
    "\n",
    "print(fibonacci_sequence(7))\n"
   ]
  },
  {
   "cell_type": "code",
   "execution_count": 11,
   "metadata": {},
   "outputs": [
    {
     "name": "stdout",
     "output_type": "stream",
     "text": [
      "olleh\n"
     ]
    }
   ],
   "source": [
    "'''5. Reverse a String\n",
    "Objective: Reverse the characters in a string.\n",
    "Input: A string.\n",
    "'''\n",
    "\n",
    "def reverse_string(s):\n",
    "    return s[::-1]\n",
    "\n",
    "\n",
    "print(reverse_string(\"hello\")) "
   ]
  },
  {
   "cell_type": "code",
   "execution_count": 12,
   "metadata": {},
   "outputs": [
    {
     "name": "stdout",
     "output_type": "stream",
     "text": [
      "True\n",
      "False\n"
     ]
    }
   ],
   "source": [
    "'''6. Palindrome Check\n",
    "Objective: Check if a string reads the same backward as forward.\n",
    "Input: A string.\n",
    "Output: True or False.\n",
    "Hint: Compare the string with its reversed version.\n",
    "'''\n",
    "\n",
    "def is_palindrome(s):\n",
    "    return s == s[::-1]\n",
    "\n",
    "\n",
    "print(is_palindrome(\"madam\"))  # Output: True\n",
    "print(is_palindrome(\"hello\"))  # Output: False\n"
   ]
  },
  {
   "cell_type": "code",
   "execution_count": 13,
   "metadata": {},
   "outputs": [
    {
     "name": "stdout",
     "output_type": "stream",
     "text": [
      "True\n",
      "False\n"
     ]
    }
   ],
   "source": [
    "'''7. Leap Year Check\n",
    "Objective: Determine whether a year is a leap year.\n",
    "Input: An integer year (e.g., 2024).\n",
    "Output: True if leap year, otherwise False.\n",
    "Hint: A year is a leap year if divisible by 4 but not by 100 unless divisible by 400.\n",
    "'''\n",
    "\n",
    "def is_leap_year(year):\n",
    "    return year % 4 == 0 and (year % 100 != 0 or year % 400 == 0)\n",
    "\n",
    "print(is_leap_year(2024))  # Output: True\n",
    "print(is_leap_year(1900))  # Output: False\n"
   ]
  },
  {
   "cell_type": "code",
   "execution_count": 14,
   "metadata": {},
   "outputs": [
    {
     "name": "stdout",
     "output_type": "stream",
     "text": [
      "True\n",
      "False\n"
     ]
    }
   ],
   "source": [
    "'''8. Armstrong Number\n",
    "Objective: Check if a number equals the sum of its digits raised to the power of the\n",
    "number of digits.\n",
    "Input: An integer nnn.\n",
    "Output: True or False.\n",
    "Example: 153 is an Armstrong number because 13+53+33=1531^3 + 5^3 + 3^3 =\n",
    "15313+53+33=153.\n",
    "Hint: Convert to a string to calculate the length and power.'''\n",
    "\n",
    "def is_armstrong_number(n):\n",
    "    digits = str(n)\n",
    "    power = len(digits)\n",
    "    total = sum(int(d) ** power for d in digits)\n",
    "    return total == n\n",
    "\n",
    "print(is_armstrong_number(153))  # Output: True\n",
    "print(is_armstrong_number(123))  # Output: False\n",
    "\n"
   ]
  },
  {
   "cell_type": "code",
   "execution_count": null,
   "metadata": {},
   "outputs": [],
   "source": []
  }
 ],
 "metadata": {
  "kernelspec": {
   "display_name": "Python 3",
   "language": "python",
   "name": "python3"
  },
  "language_info": {
   "codemirror_mode": {
    "name": "ipython",
    "version": 3
   },
   "file_extension": ".py",
   "mimetype": "text/x-python",
   "name": "python",
   "nbconvert_exporter": "python",
   "pygments_lexer": "ipython3",
   "version": "3.7.4"
  }
 },
 "nbformat": 4,
 "nbformat_minor": 2
}
